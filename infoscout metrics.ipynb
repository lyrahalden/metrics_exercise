{
 "cells": [
  {
   "cell_type": "code",
   "execution_count": 1,
   "metadata": {},
   "outputs": [],
   "source": [
    "import pandas as pd"
   ]
  },
  {
   "cell_type": "code",
   "execution_count": 2,
   "metadata": {},
   "outputs": [],
   "source": [
    "from datetime import datetime"
   ]
  },
  {
   "cell_type": "code",
   "execution_count": 3,
   "metadata": {},
   "outputs": [],
   "source": [
    "#helper function to read and clean data"
   ]
  },
  {
   "cell_type": "code",
   "execution_count": 4,
   "metadata": {},
   "outputs": [],
   "source": [
    "def read_and_clean():\n",
    "    \"\"\"A helper function to read in data from the csv file and do some cleaning/parsing for price and date\"\"\"\n",
    "    \n",
    "    # read in csv data, parse dates, set index to Trip ID\n",
    "    trips_df = pd.read_csv(\"./data/trips_gdrive.csv\", sep=',', header=0, parse_dates=['Date'], index_col=['Trip ID'])\n",
    "    \n",
    "    # remove dollar sign from price and change data type to int\n",
    "    trips_df['Item Dollars'] = (trips_df['Item Dollars'].str.strip('$').astype(int))\n",
    "    \n",
    "    return trips_df"
   ]
  },
  {
   "cell_type": "code",
   "execution_count": 5,
   "metadata": {},
   "outputs": [],
   "source": [
    "#First Function"
   ]
  },
  {
   "cell_type": "code",
   "execution_count": 6,
   "metadata": {},
   "outputs": [],
   "source": [
    "def retailer_affinity(focus_brand):\n",
    "    \"\"\"Given a brand, returns the strongest retailer affinity relative to other brands\"\"\"\n",
    "\n",
    "    # call helper function to read and clean csv file\n",
    "    trips_df = read_and_clean()\n",
    "\n",
    "    # if the brand name passed in exists in the dataframe\n",
    "    if str(focus_brand) in trips_df['Parent Brand'].values:\n",
    "\n",
    "        # then select rows where the brand column matches the one we are looking for\n",
    "        trips_focus_brand = (trips_df[trips_df['Parent Brand'] == focus_brand])\n",
    "\n",
    "    else:\n",
    "\n",
    "        # otherwise, return an error message\n",
    "        return \"Sorry, not a brand we are tracking at this time.\"\n",
    "\n",
    "    # only select the Retailer and Item Dollars columns\n",
    "    trips_focus_brand = trips_focus_brand[['Retailer', 'Item Dollars']]\n",
    "\n",
    "    # sum up Item Dollar values and group by Retailer, then sort by the sum of Item Dollar values with biggest sum at the top\n",
    "    most_selling_retailer = trips_focus_brand.groupby('Retailer').aggregate(sum).sort_values('Item Dollars', ascending=False)\n",
    "\n",
    "    # returns the value of the index of the first row, which is the retailer name\n",
    "    return most_selling_retailer.index[0]"
   ]
  },
  {
   "cell_type": "code",
   "execution_count": 7,
   "metadata": {},
   "outputs": [
    {
     "data": {
      "text/plain": [
       "'Walmart'"
      ]
     },
     "execution_count": 7,
     "metadata": {},
     "output_type": "execute_result"
    }
   ],
   "source": [
    "retailer_affinity('Monster')"
   ]
  },
  {
   "cell_type": "code",
   "execution_count": 9,
   "metadata": {},
   "outputs": [],
   "source": [
    "#Second Function"
   ]
  },
  {
   "cell_type": "code",
   "execution_count": 10,
   "metadata": {},
   "outputs": [],
   "source": [
    "def top_buying_brand():\n",
    "    \"\"\"Returns the brand with the top buying rate ($ spent per household)\"\"\"\n",
    "\n",
    "    trips_df = read_and_clean()\n",
    "\n",
    "    # add up all the dollars spent for each brand\n",
    "    dollars_spent = trips_df[['Parent Brand', 'Item Dollars']].groupby('Parent Brand').aggregate(sum)\n",
    "\n",
    "    # count up the unique number of households (User ID column) that made purchases from each brand\n",
    "    num_households = trips_df[['Parent Brand', 'User ID']].groupby('Parent Brand')['User ID'].nunique()\n",
    "    \n",
    "    #add unique number of households as a column in dollars_spent \n",
    "    dollars_spent['num_households'] = num_households\n",
    "    \n",
    "    # divide the $ spent by the number of households for each brand\n",
    "    buying_rate = dollars_spent['Item Dollars']/dollars_spent['num_households']\n",
    "    \n",
    "    #return the value of the index at the top of the list, which is the name of the brand with the highest buying rate\n",
    "    return buying_rate"
   ]
  },
  {
   "cell_type": "code",
   "execution_count": 11,
   "metadata": {},
   "outputs": [
    {
     "name": "stdout",
     "output_type": "stream",
     "text": [
      "Parent Brand\n",
      "5 Hour Energy    17.193659\n",
      "Monster          14.378125\n",
      "Red Bull         15.324259\n",
      "Rockstar         10.309256\n",
      "dtype: float64\n"
     ]
    }
   ],
   "source": [
    "df = top_buying_brand()\n",
    "print df"
   ]
  },
  {
   "cell_type": "code",
   "execution_count": 12,
   "metadata": {},
   "outputs": [
    {
     "data": {
      "text/plain": [
       "pandas.core.series.Series"
      ]
     },
     "execution_count": 12,
     "metadata": {},
     "output_type": "execute_result"
    }
   ],
   "source": [
    "type(df)"
   ]
  },
  {
   "cell_type": "code",
   "execution_count": 17,
   "metadata": {},
   "outputs": [
    {
     "data": {
      "text/plain": [
       "Parent Brand\n",
       "5 Hour Energy    17.193659\n",
       "Monster          14.378125\n",
       "Red Bull         15.324259\n",
       "Rockstar         10.309256\n",
       "dtype: float64"
      ]
     },
     "execution_count": 17,
     "metadata": {},
     "output_type": "execute_result"
    }
   ],
   "source": [
    "df.iloc[0:4]"
   ]
  },
  {
   "cell_type": "code",
   "execution_count": 16,
   "metadata": {},
   "outputs": [
    {
     "data": {
      "text/plain": [
       "array(['5 Hour Energy', 'Monster', 'Red Bull', 'Rockstar'], dtype=object)"
      ]
     },
     "execution_count": 16,
     "metadata": {},
     "output_type": "execute_result"
    }
   ],
   "source": [
    "df.index.values"
   ]
  },
  {
   "cell_type": "code",
   "execution_count": 145,
   "metadata": {},
   "outputs": [],
   "source": [
    "#Third Function"
   ]
  },
  {
   "cell_type": "code",
   "execution_count": 76,
   "metadata": {},
   "outputs": [],
   "source": [
    "def count_hhs(brand=None, retailer=None, start_date=None, end_date=None):\n",
    "    \"\"\"Given inputs, returns the number of households that matches the inputs\"\"\"\n",
    "    \n",
    "    # read in the csv file and clean/parse it\n",
    "    trips_df = read_and_clean()\n",
    "    \n",
    "    # check if a brand name has been passed in and exists in the Parent Brand column\n",
    "    if brand and brand in trips_df['Parent Brand'].values:\n",
    "\n",
    "        # if so, select the rows with the brand name\n",
    "        trips_df = (trips_df[trips_df['Parent Brand'] == brand])\n",
    "    \n",
    "    # check if a retailer name has been passed in and exists in the Retailer column\n",
    "    if retailer and retailer in trips_df['Retailer'].values:\n",
    "        \n",
    "        trips_df = (trips_df[trips_df['Retailer'] == retailer])\n",
    "    \n",
    "    # if start date exists\n",
    "    if start_date:\n",
    "        \n",
    "        # filter out rows with dates that are less than the start date\n",
    "        trips_df = (trips_df[trips_df['Date'] >= datetime.strptime(start_date, '%Y-%m-%d')])\n",
    "    \n",
    "    # if end date exists\n",
    "    if end_date:\n",
    "        \n",
    "        # filter out rows with dates that are greater than the end date\n",
    "        trips_df = (trips_df[trips_df['Date'] <= datetime.strptime(end_date, '%Y-%m-%d')])\n",
    "        \n",
    "    # return the number of unique occurrences of User ID's\n",
    "    return trips_df['User ID'].nunique()"
   ]
  },
  {
   "cell_type": "code",
   "execution_count": 77,
   "metadata": {},
   "outputs": [
    {
     "data": {
      "text/plain": [
       "100"
      ]
     },
     "execution_count": 77,
     "metadata": {},
     "output_type": "execute_result"
    }
   ],
   "source": [
    "count_hhs(retailer='Kroger', brand='Rockstar', start_date=\"2014-05-03\", end_date='2014-05-30')"
   ]
  },
  {
   "cell_type": "code",
   "execution_count": 50,
   "metadata": {},
   "outputs": [],
   "source": [
    "df = read_and_clean()"
   ]
  },
  {
   "cell_type": "code",
   "execution_count": 61,
   "metadata": {},
   "outputs": [
    {
     "data": {
      "text/plain": [
       "datetime.datetime(2014, 5, 3, 0, 0)"
      ]
     },
     "execution_count": 61,
     "metadata": {},
     "output_type": "execute_result"
    }
   ],
   "source": [
    "datetime.strptime(\"2014-05-03\", '%Y-%m-%d')"
   ]
  },
  {
   "cell_type": "code",
   "execution_count": 84,
   "metadata": {},
   "outputs": [
    {
     "data": {
      "text/plain": [
       "10495"
      ]
     },
     "execution_count": 84,
     "metadata": {},
     "output_type": "execute_result"
    }
   ],
   "source": [
    "df[\"User ID\"].nunique()"
   ]
  },
  {
   "cell_type": "code",
   "execution_count": 7,
   "metadata": {},
   "outputs": [],
   "source": [
    "import matplotlib.pyplot as plt"
   ]
  },
  {
   "cell_type": "code",
   "execution_count": 15,
   "metadata": {},
   "outputs": [],
   "source": [
    "plt.plot?"
   ]
  },
  {
   "cell_type": "code",
   "execution_count": 8,
   "metadata": {},
   "outputs": [
    {
     "data": {
      "text/plain": [
       "<matplotlib.axes._subplots.AxesSubplot at 0x7f58cf2e8750>"
      ]
     },
     "execution_count": 8,
     "metadata": {},
     "output_type": "execute_result"
    },
    {
     "data": {
      "image/png": "[encoded data removed]",
      "text/plain": [
       "<matplotlib.figure.Figure at 0x7f58cfb70cd0>"
      ]
     },
     "metadata": {},
     "output_type": "display_data"
    }
   ],
   "source": [
    "df['Date'].plot()"
   ]
  },
  {
   "cell_type": "code",
   "execution_count": null,
   "metadata": {},
   "outputs": [],
   "source": []
  }
 ],
 "metadata": {
  "kernelspec": {
   "display_name": "Python 2",
   "language": "python",
   "name": "python2"
  },
  "language_info": {
   "codemirror_mode": {
    "name": "ipython",
    "version": 2
   },
   "file_extension": ".py",
   "mimetype": "text/x-python",
   "name": "python",
   "nbconvert_exporter": "python",
   "pygments_lexer": "ipython2",
   "version": "2.7.12"
  }
 },
 "nbformat": 4,
 "nbformat_minor": 2
}
