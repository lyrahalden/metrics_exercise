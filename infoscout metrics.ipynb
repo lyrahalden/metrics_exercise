{
 "cells": [
  {
   "cell_type": "code",
   "execution_count": 3,
   "metadata": {},
   "outputs": [],
   "source": [
    "import pandas as pd"
   ]
  },
  {
   "cell_type": "code",
   "execution_count": 55,
   "metadata": {},
   "outputs": [],
   "source": [
    "#helper function to read and clean data"
   ]
  },
  {
   "cell_type": "code",
   "execution_count": 57,
   "metadata": {},
   "outputs": [],
   "source": [
    "def read_and_clean():\n",
    "    \"\"\"A helper function to read in data from the csv file and do some cleaning/parsing for price and date\"\"\"\n",
    "    \n",
    "    # read in csv data, parse dates, set index to Trip ID\n",
    "    trips_df = pd.read_csv(\"./data/trips_gdrive.csv\", sep=',', header=0, parse_dates=['Date'], index_col=['Trip ID'])\n",
    "    \n",
    "    # remove dollar sign from price and change data type to int\n",
    "    trips_df['Item Dollars'] = (trips_df['Item Dollars'].str.strip('$').astype(int))\n",
    "    \n",
    "    return trips_df"
   ]
  },
  {
   "cell_type": "code",
   "execution_count": null,
   "metadata": {},
   "outputs": [],
   "source": [
    "#First Function"
   ]
  },
  {
   "cell_type": "code",
   "execution_count": 58,
   "metadata": {},
   "outputs": [],
   "source": [
    "def retailer_affinity(focus_brand):\n",
    "    \"\"\"Given a brand, returns the strongest retailer affinity relative to other brands\"\"\"\n",
    "\n",
    "    trips_df = read_and_clean()\n",
    "    \n",
    "    # select rows where the brand column matches the one we are looking for\n",
    "    if str(focus_brand) in ['Monster', 'Rockstar', 'Red Bull', '5 Hour Energy']:\n",
    "        trips_focus_brand = (trips_df[trips_df['Parent Brand'] == focus_brand])\n",
    "    else:\n",
    "        return \"Sorry, not a brand we are tracking at this time.\"\n",
    "\n",
    "    # only select the Retailer and Item Dollars columns\n",
    "    trips_focus_brand = trips_focus_brand[['Retailer', 'Item Dollars']]\n",
    "\n",
    "    # sum up Item Dollar values and group by Retailer, then sort by the sum of Item Dollar values with biggest sum at the top\n",
    "    most_selling_retailer = trips_focus_brand.groupby('Retailer').aggregate(sum).sort_values('Item Dollars', ascending=False)\n",
    "    \n",
    "    #returns the value of the index of the first row, which is the retailer name\n",
    "    return most_selling_retailer.index[0]"
   ]
  },
  {
   "cell_type": "code",
   "execution_count": 60,
   "metadata": {},
   "outputs": [
    {
     "data": {
      "text/plain": [
       "'Walmart'"
      ]
     },
     "execution_count": 60,
     "metadata": {},
     "output_type": "execute_result"
    }
   ],
   "source": [
    "retailer_affinity('Monster')"
   ]
  },
  {
   "cell_type": "code",
   "execution_count": 34,
   "metadata": {},
   "outputs": [
    {
     "data": {
      "text/plain": [
       "'Walmart'"
      ]
     },
     "execution_count": 34,
     "metadata": {},
     "output_type": "execute_result"
    }
   ],
   "source": [
    "df.index[0]"
   ]
  },
  {
   "cell_type": "code",
   "execution_count": 47,
   "metadata": {},
   "outputs": [],
   "source": [
    "#Second Function"
   ]
  },
  {
   "cell_type": "code",
   "execution_count": 143,
   "metadata": {},
   "outputs": [],
   "source": [
    "def top_buying_brand():\n",
    "    \"\"\"Returns the brand with the top buying rate ($ spent per household)\"\"\"\n",
    "\n",
    "    trips_df = read_and_clean()\n",
    "\n",
    "    # add up all the dollars spent for each brand\n",
    "    dollars_spent = trips_df[['Parent Brand', 'Item Dollars']].groupby('Parent Brand').aggregate(sum)\n",
    "\n",
    "    # count up the unique number of households (User ID column) that made purchases from each brand\n",
    "    num_households = trips_df[['Parent Brand', 'User ID']].groupby('Parent Brand')['User ID'].nunique()\n",
    "    \n",
    "    #add unique number of households as a column in dollars_spent \n",
    "    dollars_spent['num_households'] = num_households\n",
    "    \n",
    "    # divide the $ spent by the number of households for each brand\n",
    "    buying_rate = dollars_spent['Item Dollars']/dollars_spent['num_households']\n",
    "    \n",
    "    #return the value of the index at the top of the list, which is the name of the brand with the highest buying rate\n",
    "    return buying_rate.index[0]"
   ]
  },
  {
   "cell_type": "code",
   "execution_count": 144,
   "metadata": {},
   "outputs": [
    {
     "name": "stdout",
     "output_type": "stream",
     "text": [
      "               Item Dollars  num_households\n",
      "Parent Brand                               \n",
      "5 Hour Energy         20065            1167\n",
      "Monster               69015            4800\n",
      "Red Bull              69802            4555\n",
      "Rockstar              23835            2312\n",
      "5 Hour Energy\n"
     ]
    }
   ],
   "source": [
    "df = top_buying_brand()\n",
    "print df"
   ]
  },
  {
   "cell_type": "code",
   "execution_count": 135,
   "metadata": {},
   "outputs": [
    {
     "data": {
      "text/plain": [
       "pandas.core.series.Series"
      ]
     },
     "execution_count": 135,
     "metadata": {},
     "output_type": "execute_result"
    }
   ],
   "source": [
    "type(df)"
   ]
  },
  {
   "cell_type": "code",
   "execution_count": 119,
   "metadata": {},
   "outputs": [
    {
     "data": {
      "text/plain": [
       "1167.0"
      ]
     },
     "execution_count": 119,
     "metadata": {},
     "output_type": "execute_result"
    }
   ],
   "source": [
    "df.iloc[4, 0]"
   ]
  },
  {
   "cell_type": "code",
   "execution_count": 116,
   "metadata": {},
   "outputs": [
    {
     "name": "stdout",
     "output_type": "stream",
     "text": [
      "4\n"
     ]
    }
   ],
   "source": [
    "num_brands = len(df.index)/2\n",
    "print num_brands"
   ]
  },
  {
   "cell_type": "code",
   "execution_count": null,
   "metadata": {},
   "outputs": [],
   "source": []
  },
  {
   "cell_type": "code",
   "execution_count": null,
   "metadata": {},
   "outputs": [],
   "source": [
    "for brand in range(num_brands):\n",
    "    df.iloc()"
   ]
  }
 ],
 "metadata": {
  "kernelspec": {
   "display_name": "Python 2",
   "language": "python",
   "name": "python2"
  },
  "language_info": {
   "codemirror_mode": {
    "name": "ipython",
    "version": 2
   },
   "file_extension": ".py",
   "mimetype": "text/x-python",
   "name": "python",
   "nbconvert_exporter": "python",
   "pygments_lexer": "ipython2",
   "version": "2.7.12"
  }
 },
 "nbformat": 4,
 "nbformat_minor": 2
}
