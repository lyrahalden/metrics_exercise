{
 "cells": [
  {
   "cell_type": "code",
   "execution_count": 3,
   "metadata": {},
   "outputs": [],
   "source": [
    "import pandas as pd"
   ]
  },
  {
   "cell_type": "code",
   "execution_count": 45,
   "metadata": {},
   "outputs": [],
   "source": [
    "def retailer_affinity(focus_brand):\n",
    "    \"\"\"Given a brand, returns the strongest retailer affinity relative to other brands\"\"\"\n",
    "\n",
    "    # read in csv data\n",
    "    trips_df = pd.read_csv(\"./data/trips_gdrive.csv\", sep=',', header=0, parse_dates=['Date'], index_col=['Trip ID'])\n",
    "\n",
    "    # select rows where the brand column matches the one we are looking for\n",
    "    if str(focus_brand) in ['Monster', 'Rockstar', 'Red Bull', '5 Hour Energy']:\n",
    "        trips_focus_brand = (trips_df[trips_df['Parent Brand'] == focus_brand])\n",
    "    else:\n",
    "        return \"Sorry, not a brand we are tracking at this time.\"\n",
    "\n",
    "    # only select the Retailer and Item Dollars columns\n",
    "    trips_focus_brand = trips_focus_brand[['Retailer', 'Item Dollars']]\n",
    "    \n",
    "    # remove dollar sign from price and change data type to int\n",
    "    trips_focus_brand['Item Dollars'] = (trips_focus_brand['Item Dollars'].str.strip('$').astype(int))\n",
    "\n",
    "    # sum up Item Dollar values and group by Retailer, then sort by the sum of Item Dollar values with biggest sum at the top\n",
    "    most_selling_retailer = trips_focus_brand.groupby('Retailer').aggregate(sum).sort_values('Item Dollars', ascending=False)\n",
    "    \n",
    "    #returns the value of the index of the first row, which is the retailer name\n",
    "    return most_selling_retailer.index[0]"
   ]
  },
  {
   "cell_type": "code",
   "execution_count": 46,
   "metadata": {},
   "outputs": [
    {
     "data": {
      "text/plain": [
       "'Sorry, not a brand we are tracking at this time.'"
      ]
     },
     "execution_count": 46,
     "metadata": {},
     "output_type": "execute_result"
    }
   ],
   "source": [
    "retailer_affinity('Red')"
   ]
  },
  {
   "cell_type": "code",
   "execution_count": 34,
   "metadata": {},
   "outputs": [
    {
     "data": {
      "text/plain": [
       "'Walmart'"
      ]
     },
     "execution_count": 34,
     "metadata": {},
     "output_type": "execute_result"
    }
   ],
   "source": [
    "df.index[0]"
   ]
  },
  {
   "cell_type": "code",
   "execution_count": null,
   "metadata": {},
   "outputs": [],
   "source": []
  }
 ],
 "metadata": {
  "kernelspec": {
   "display_name": "Python 2",
   "language": "python",
   "name": "python2"
  },
  "language_info": {
   "codemirror_mode": {
    "name": "ipython",
    "version": 2
   },
   "file_extension": ".py",
   "mimetype": "text/x-python",
   "name": "python",
   "nbconvert_exporter": "python",
   "pygments_lexer": "ipython2",
   "version": "2.7.12"
  }
 },
 "nbformat": 4,
 "nbformat_minor": 2
}
